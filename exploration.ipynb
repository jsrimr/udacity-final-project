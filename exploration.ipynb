{
 "cells": [
  {
   "cell_type": "markdown",
   "metadata": {},
   "source": [
    "## Data Exploration"
   ]
  },
  {
   "cell_type": "code",
   "execution_count": 1,
   "metadata": {},
   "outputs": [],
   "source": [
    "import sqlite3\n",
    "import pandas as pd\n",
    "# connect to db\n",
    "def build_db_and_get_name_and_tables(db_path):\n",
    "    '''\n",
    "    INPUT - db_path - location to load db, ex) ./binance_future_1m.db\n",
    "            \n",
    "    OUTPUT - \n",
    "            table_names - list of table names in the db\n",
    "            table_list - list of actual table values in the db\n",
    "    '''\n",
    "    db = sqlite3.connect(db_path)\n",
    "    cursor = db.cursor()\n",
    "    cursor.execute(\"SELECT name FROM sqlite_master WHERE type='table';\")\n",
    "    table_names = cursor.fetchall()\n",
    "    table_list = [pd.read_sql_query(\"SELECT * from %s\" % name[0], db) for name in table_names]\n",
    "    return table_names, table_list\n",
    "\n",
    "table_names, table_list = build_db_and_get_name_and_tables(\"./binance_futures_1d.db\" )\n"
   ]
  },
  {
   "cell_type": "code",
   "execution_count": 2,
   "metadata": {},
   "outputs": [
    {
     "data": {
      "text/html": [
       "<div>\n",
       "<style scoped>\n",
       "    .dataframe tbody tr th:only-of-type {\n",
       "        vertical-align: middle;\n",
       "    }\n",
       "\n",
       "    .dataframe tbody tr th {\n",
       "        vertical-align: top;\n",
       "    }\n",
       "\n",
       "    .dataframe thead th {\n",
       "        text-align: right;\n",
       "    }\n",
       "</style>\n",
       "<table border=\"1\" class=\"dataframe\">\n",
       "  <thead>\n",
       "    <tr style=\"text-align: right;\">\n",
       "      <th></th>\n",
       "      <th>timestamp</th>\n",
       "      <th>open</th>\n",
       "      <th>high</th>\n",
       "      <th>low</th>\n",
       "      <th>close</th>\n",
       "      <th>volume</th>\n",
       "    </tr>\n",
       "    <tr>\n",
       "      <th>timestamp</th>\n",
       "      <th></th>\n",
       "      <th></th>\n",
       "      <th></th>\n",
       "      <th></th>\n",
       "      <th></th>\n",
       "      <th></th>\n",
       "    </tr>\n",
       "  </thead>\n",
       "  <tbody>\n",
       "    <tr>\n",
       "      <th>2017-08-17</th>\n",
       "      <td>1502928000000</td>\n",
       "      <td>4261.48</td>\n",
       "      <td>4485.39</td>\n",
       "      <td>4200.74</td>\n",
       "      <td>4285.08</td>\n",
       "      <td>795.150377</td>\n",
       "    </tr>\n",
       "    <tr>\n",
       "      <th>2017-08-18</th>\n",
       "      <td>1503014400000</td>\n",
       "      <td>4285.08</td>\n",
       "      <td>4371.52</td>\n",
       "      <td>3938.77</td>\n",
       "      <td>4108.37</td>\n",
       "      <td>1199.888264</td>\n",
       "    </tr>\n",
       "    <tr>\n",
       "      <th>2017-08-19</th>\n",
       "      <td>1503100800000</td>\n",
       "      <td>4108.37</td>\n",
       "      <td>4184.69</td>\n",
       "      <td>3850.00</td>\n",
       "      <td>4139.98</td>\n",
       "      <td>381.309763</td>\n",
       "    </tr>\n",
       "    <tr>\n",
       "      <th>2017-08-20</th>\n",
       "      <td>1503187200000</td>\n",
       "      <td>4120.98</td>\n",
       "      <td>4211.08</td>\n",
       "      <td>4032.62</td>\n",
       "      <td>4086.29</td>\n",
       "      <td>467.083022</td>\n",
       "    </tr>\n",
       "    <tr>\n",
       "      <th>2017-08-21</th>\n",
       "      <td>1503273600000</td>\n",
       "      <td>4069.13</td>\n",
       "      <td>4119.62</td>\n",
       "      <td>3911.79</td>\n",
       "      <td>4016.00</td>\n",
       "      <td>691.743060</td>\n",
       "    </tr>\n",
       "  </tbody>\n",
       "</table>\n",
       "</div>"
      ],
      "text/plain": [
       "                timestamp     open     high      low    close       volume\n",
       "timestamp                                                                 \n",
       "2017-08-17  1502928000000  4261.48  4485.39  4200.74  4285.08   795.150377\n",
       "2017-08-18  1503014400000  4285.08  4371.52  3938.77  4108.37  1199.888264\n",
       "2017-08-19  1503100800000  4108.37  4184.69  3850.00  4139.98   381.309763\n",
       "2017-08-20  1503187200000  4120.98  4211.08  4032.62  4086.29   467.083022\n",
       "2017-08-21  1503273600000  4069.13  4119.62  3911.79  4016.00   691.743060"
      ]
     },
     "execution_count": 2,
     "metadata": {},
     "output_type": "execute_result"
    }
   ],
   "source": [
    "df = pd.DataFrame(table_list[0])\n",
    "df.index = pd.to_datetime(df.timestamp, unit='ms')\n",
    "df.head()"
   ]
  },
  {
   "cell_type": "code",
   "execution_count": 3,
   "metadata": {},
   "outputs": [
    {
     "data": {
      "text/html": [
       "<div>\n",
       "<style scoped>\n",
       "    .dataframe tbody tr th:only-of-type {\n",
       "        vertical-align: middle;\n",
       "    }\n",
       "\n",
       "    .dataframe tbody tr th {\n",
       "        vertical-align: top;\n",
       "    }\n",
       "\n",
       "    .dataframe thead th {\n",
       "        text-align: right;\n",
       "    }\n",
       "</style>\n",
       "<table border=\"1\" class=\"dataframe\">\n",
       "  <thead>\n",
       "    <tr style=\"text-align: right;\">\n",
       "      <th></th>\n",
       "      <th>timestamp</th>\n",
       "      <th>open</th>\n",
       "      <th>high</th>\n",
       "      <th>low</th>\n",
       "      <th>close</th>\n",
       "      <th>volume</th>\n",
       "    </tr>\n",
       "    <tr>\n",
       "      <th>timestamp</th>\n",
       "      <th></th>\n",
       "      <th></th>\n",
       "      <th></th>\n",
       "      <th></th>\n",
       "      <th></th>\n",
       "      <th></th>\n",
       "    </tr>\n",
       "  </thead>\n",
       "  <tbody>\n",
       "    <tr>\n",
       "      <th>2021-12-26</th>\n",
       "      <td>1640476800000</td>\n",
       "      <td>50399.67</td>\n",
       "      <td>51280.00</td>\n",
       "      <td>49412.00</td>\n",
       "      <td>50775.49</td>\n",
       "      <td>22569.88914</td>\n",
       "    </tr>\n",
       "    <tr>\n",
       "      <th>2021-12-27</th>\n",
       "      <td>1640563200000</td>\n",
       "      <td>50775.48</td>\n",
       "      <td>52088.00</td>\n",
       "      <td>50449.00</td>\n",
       "      <td>50701.44</td>\n",
       "      <td>28779.58212</td>\n",
       "    </tr>\n",
       "    <tr>\n",
       "      <th>2021-12-28</th>\n",
       "      <td>1640649600000</td>\n",
       "      <td>50701.44</td>\n",
       "      <td>50704.05</td>\n",
       "      <td>47313.01</td>\n",
       "      <td>47543.74</td>\n",
       "      <td>45853.33924</td>\n",
       "    </tr>\n",
       "    <tr>\n",
       "      <th>2021-12-29</th>\n",
       "      <td>1640736000000</td>\n",
       "      <td>47543.74</td>\n",
       "      <td>48139.08</td>\n",
       "      <td>46096.99</td>\n",
       "      <td>46464.66</td>\n",
       "      <td>39498.87000</td>\n",
       "    </tr>\n",
       "    <tr>\n",
       "      <th>2021-12-30</th>\n",
       "      <td>1640822400000</td>\n",
       "      <td>46464.66</td>\n",
       "      <td>46844.80</td>\n",
       "      <td>45900.00</td>\n",
       "      <td>46701.51</td>\n",
       "      <td>2921.69563</td>\n",
       "    </tr>\n",
       "  </tbody>\n",
       "</table>\n",
       "</div>"
      ],
      "text/plain": [
       "                timestamp      open      high       low     close       volume\n",
       "timestamp                                                                     \n",
       "2021-12-26  1640476800000  50399.67  51280.00  49412.00  50775.49  22569.88914\n",
       "2021-12-27  1640563200000  50775.48  52088.00  50449.00  50701.44  28779.58212\n",
       "2021-12-28  1640649600000  50701.44  50704.05  47313.01  47543.74  45853.33924\n",
       "2021-12-29  1640736000000  47543.74  48139.08  46096.99  46464.66  39498.87000\n",
       "2021-12-30  1640822400000  46464.66  46844.80  45900.00  46701.51   2921.69563"
      ]
     },
     "execution_count": 3,
     "metadata": {},
     "output_type": "execute_result"
    }
   ],
   "source": [
    "df.tail()"
   ]
  },
  {
   "cell_type": "code",
   "execution_count": 4,
   "metadata": {},
   "outputs": [
    {
     "data": {
      "text/html": [
       "<div>\n",
       "<style scoped>\n",
       "    .dataframe tbody tr th:only-of-type {\n",
       "        vertical-align: middle;\n",
       "    }\n",
       "\n",
       "    .dataframe tbody tr th {\n",
       "        vertical-align: top;\n",
       "    }\n",
       "\n",
       "    .dataframe thead th {\n",
       "        text-align: right;\n",
       "    }\n",
       "</style>\n",
       "<table border=\"1\" class=\"dataframe\">\n",
       "  <thead>\n",
       "    <tr style=\"text-align: right;\">\n",
       "      <th></th>\n",
       "      <th>timestamp</th>\n",
       "      <th>open</th>\n",
       "      <th>high</th>\n",
       "      <th>low</th>\n",
       "      <th>close</th>\n",
       "      <th>volume</th>\n",
       "    </tr>\n",
       "  </thead>\n",
       "  <tbody>\n",
       "    <tr>\n",
       "      <th>count</th>\n",
       "      <td>1.597000e+03</td>\n",
       "      <td>1597.000000</td>\n",
       "      <td>1597.000000</td>\n",
       "      <td>1597.000000</td>\n",
       "      <td>1597.000000</td>\n",
       "      <td>1597.000000</td>\n",
       "    </tr>\n",
       "    <tr>\n",
       "      <th>mean</th>\n",
       "      <td>1.571875e+12</td>\n",
       "      <td>17383.815698</td>\n",
       "      <td>17907.796512</td>\n",
       "      <td>16786.053538</td>\n",
       "      <td>17410.478835</td>\n",
       "      <td>50357.535862</td>\n",
       "    </tr>\n",
       "    <tr>\n",
       "      <th>std</th>\n",
       "      <td>3.984409e+10</td>\n",
       "      <td>17261.002134</td>\n",
       "      <td>17763.220800</td>\n",
       "      <td>16676.735794</td>\n",
       "      <td>17273.539609</td>\n",
       "      <td>36369.638655</td>\n",
       "    </tr>\n",
       "    <tr>\n",
       "      <th>min</th>\n",
       "      <td>1.502928e+12</td>\n",
       "      <td>3188.010000</td>\n",
       "      <td>3276.500000</td>\n",
       "      <td>2817.000000</td>\n",
       "      <td>3189.020000</td>\n",
       "      <td>228.108068</td>\n",
       "    </tr>\n",
       "    <tr>\n",
       "      <th>25%</th>\n",
       "      <td>1.537402e+12</td>\n",
       "      <td>6732.970000</td>\n",
       "      <td>6890.510000</td>\n",
       "      <td>6566.770000</td>\n",
       "      <td>6734.100000</td>\n",
       "      <td>28451.969138</td>\n",
       "    </tr>\n",
       "    <tr>\n",
       "      <th>50%</th>\n",
       "      <td>1.571875e+12</td>\n",
       "      <td>9278.880000</td>\n",
       "      <td>9458.640000</td>\n",
       "      <td>9072.000000</td>\n",
       "      <td>9288.340000</td>\n",
       "      <td>43475.380377</td>\n",
       "    </tr>\n",
       "    <tr>\n",
       "      <th>75%</th>\n",
       "      <td>1.606349e+12</td>\n",
       "      <td>18413.880000</td>\n",
       "      <td>18948.660000</td>\n",
       "      <td>17740.040000</td>\n",
       "      <td>18541.280000</td>\n",
       "      <td>64647.809129</td>\n",
       "    </tr>\n",
       "    <tr>\n",
       "      <th>max</th>\n",
       "      <td>1.640822e+12</td>\n",
       "      <td>67525.820000</td>\n",
       "      <td>69000.000000</td>\n",
       "      <td>66222.400000</td>\n",
       "      <td>67525.830000</td>\n",
       "      <td>402201.673764</td>\n",
       "    </tr>\n",
       "  </tbody>\n",
       "</table>\n",
       "</div>"
      ],
      "text/plain": [
       "          timestamp          open          high           low         close  \\\n",
       "count  1.597000e+03   1597.000000   1597.000000   1597.000000   1597.000000   \n",
       "mean   1.571875e+12  17383.815698  17907.796512  16786.053538  17410.478835   \n",
       "std    3.984409e+10  17261.002134  17763.220800  16676.735794  17273.539609   \n",
       "min    1.502928e+12   3188.010000   3276.500000   2817.000000   3189.020000   \n",
       "25%    1.537402e+12   6732.970000   6890.510000   6566.770000   6734.100000   \n",
       "50%    1.571875e+12   9278.880000   9458.640000   9072.000000   9288.340000   \n",
       "75%    1.606349e+12  18413.880000  18948.660000  17740.040000  18541.280000   \n",
       "max    1.640822e+12  67525.820000  69000.000000  66222.400000  67525.830000   \n",
       "\n",
       "              volume  \n",
       "count    1597.000000  \n",
       "mean    50357.535862  \n",
       "std     36369.638655  \n",
       "min       228.108068  \n",
       "25%     28451.969138  \n",
       "50%     43475.380377  \n",
       "75%     64647.809129  \n",
       "max    402201.673764  "
      ]
     },
     "execution_count": 4,
     "metadata": {},
     "output_type": "execute_result"
    }
   ],
   "source": [
    "df.describe()"
   ]
  },
  {
   "cell_type": "code",
   "execution_count": 8,
   "metadata": {},
   "outputs": [
    {
     "name": "stderr",
     "output_type": "stream",
     "text": [
      "/home/jeffrey/anaconda3/envs/gpu/lib/python3.7/site-packages/seaborn/_decorators.py:43: FutureWarning: Pass the following variables as keyword args: x, y. From version 0.12, the only valid positional argument will be `data`, and passing other arguments without an explicit keyword will result in an error or misinterpretation.\n",
      "  FutureWarning\n"
     ]
    },
    {
     "data": {
      "text/plain": [
       "[None,\n",
       " None,\n",
       " None,\n",
       " None,\n",
       " None,\n",
       " None,\n",
       " None,\n",
       " None,\n",
       " None,\n",
       " None,\n",
       " None,\n",
       " None,\n",
       " None,\n",
       " None,\n",
       " None,\n",
       " None,\n",
       " None,\n",
       " None,\n",
       " None,\n",
       " None]"
      ]
     },
     "execution_count": 8,
     "metadata": {},
     "output_type": "execute_result"
    },
    {
     "data": {
      "image/png": "[encoded data removed]",
      "text/plain": [
       "<Figure size 432x288 with 1 Axes>"
      ]
     },
     "metadata": {},
     "output_type": "display_data"
    }
   ],
   "source": [
    "import matplotlib.pyplot as plt\n",
    "import seaborn as sns\n",
    "\n",
    "sns.set_style('whitegrid')\n",
    "# basic visualization : price trend across the time\n",
    "sns.lineplot(df.index, df.close)\n",
    "locs, labels = plt.xticks()\n",
    "plt.setp(labels, rotation=45)\n"
   ]
  },
  {
   "cell_type": "code",
   "execution_count": 6,
   "metadata": {},
   "outputs": [
    {
     "name": "stderr",
     "output_type": "stream",
     "text": [
      "/home/jeffrey/anaconda3/envs/gpu/lib/python3.7/site-packages/seaborn/distributions.py:2619: FutureWarning: `distplot` is a deprecated function and will be removed in a future version. Please adapt your code to use either `displot` (a figure-level function with similar flexibility) or `histplot` (an axes-level function for histograms).\n",
      "  warnings.warn(msg, FutureWarning)\n"
     ]
    },
    {
     "data": {
      "text/plain": [
       "<AxesSubplot:xlabel='volume', ylabel='Density'>"
      ]
     },
     "execution_count": 6,
     "metadata": {},
     "output_type": "execute_result"
    },
    {
     "data": {
      "image/png": "[encoded data removed]",
      "text/plain": [
       "<Figure size 432x288 with 1 Axes>"
      ]
     },
     "metadata": {},
     "output_type": "display_data"
    }
   ],
   "source": [
    "# volume density plot\n",
    "\n",
    "# sns.kdeplot(df.volume, bw=0.5)\n",
    "sns.distplot(df.volume)\n"
   ]
  },
  {
   "cell_type": "code",
   "execution_count": 7,
   "metadata": {},
   "outputs": [
    {
     "name": "stderr",
     "output_type": "stream",
     "text": [
      "/home/jeffrey/anaconda3/envs/gpu/lib/python3.7/site-packages/seaborn/distributions.py:2619: FutureWarning: `distplot` is a deprecated function and will be removed in a future version. Please adapt your code to use either `displot` (a figure-level function with similar flexibility) or `histplot` (an axes-level function for histograms).\n",
      "  warnings.warn(msg, FutureWarning)\n"
     ]
    },
    {
     "data": {
      "text/plain": [
       "<AxesSubplot:xlabel='volume', ylabel='Density'>"
      ]
     },
     "execution_count": 7,
     "metadata": {},
     "output_type": "execute_result"
    },
    {
     "data": {
      "image/png": "[encoded data removed]",
      "text/plain": [
       "<Figure size 432x288 with 1 Axes>"
      ]
     },
     "metadata": {},
     "output_type": "display_data"
    }
   ],
   "source": [
    "# seems volume is highly skewed. Let's remove lower 5%, higher 5% data to get more ideas.\n",
    "n = df.shape[0]\n",
    "data = df.volume.sort_values()[int(n * 0.05):int(n * 0.95)]\n",
    "sns.distplot(data)"
   ]
  },
  {
   "cell_type": "markdown",
   "metadata": {},
   "source": [
    "volume data seems more balanced after normalizing.\n",
    "\n",
    "We should do some preprocessing when using this data to prevent model confusion"
   ]
  },
  {
   "cell_type": "code",
   "execution_count": 19,
   "metadata": {},
   "outputs": [],
   "source": [
    "# train-test split\n",
    "split_ratio = 0.8\n",
    "cut = int(len(df) * split_ratio)\n",
    "\n",
    "train_df = df[:cut]\n",
    "test_df = df[cut:]"
   ]
  },
  {
   "cell_type": "code",
   "execution_count": 25,
   "metadata": {},
   "outputs": [
    {
     "data": {
      "text/html": [
       "<div>\n",
       "<style scoped>\n",
       "    .dataframe tbody tr th:only-of-type {\n",
       "        vertical-align: middle;\n",
       "    }\n",
       "\n",
       "    .dataframe tbody tr th {\n",
       "        vertical-align: top;\n",
       "    }\n",
       "\n",
       "    .dataframe thead th {\n",
       "        text-align: right;\n",
       "    }\n",
       "</style>\n",
       "<table border=\"1\" class=\"dataframe\">\n",
       "  <thead>\n",
       "    <tr style=\"text-align: right;\">\n",
       "      <th></th>\n",
       "      <th>timestamp</th>\n",
       "      <th>open</th>\n",
       "      <th>high</th>\n",
       "      <th>low</th>\n",
       "      <th>close</th>\n",
       "      <th>volume</th>\n",
       "    </tr>\n",
       "    <tr>\n",
       "      <th>timestamp</th>\n",
       "      <th></th>\n",
       "      <th></th>\n",
       "      <th></th>\n",
       "      <th></th>\n",
       "      <th></th>\n",
       "      <th></th>\n",
       "    </tr>\n",
       "  </thead>\n",
       "  <tbody>\n",
       "    <tr>\n",
       "      <th>2021-02-14</th>\n",
       "      <td>1613260800000</td>\n",
       "      <td>47156.78</td>\n",
       "      <td>49707.43</td>\n",
       "      <td>47014.17</td>\n",
       "      <td>48577.79</td>\n",
       "      <td>73735.475533</td>\n",
       "    </tr>\n",
       "    <tr>\n",
       "      <th>2021-02-15</th>\n",
       "      <td>1613347200000</td>\n",
       "      <td>48580.47</td>\n",
       "      <td>49010.92</td>\n",
       "      <td>45570.79</td>\n",
       "      <td>47911.10</td>\n",
       "      <td>79398.156784</td>\n",
       "    </tr>\n",
       "    <tr>\n",
       "      <th>2021-02-16</th>\n",
       "      <td>1613433600000</td>\n",
       "      <td>47911.10</td>\n",
       "      <td>50689.18</td>\n",
       "      <td>47003.62</td>\n",
       "      <td>49133.45</td>\n",
       "      <td>88813.266298</td>\n",
       "    </tr>\n",
       "    <tr>\n",
       "      <th>2021-02-17</th>\n",
       "      <td>1613520000000</td>\n",
       "      <td>49133.45</td>\n",
       "      <td>52618.74</td>\n",
       "      <td>48947.00</td>\n",
       "      <td>52119.71</td>\n",
       "      <td>85743.637818</td>\n",
       "    </tr>\n",
       "    <tr>\n",
       "      <th>2021-02-18</th>\n",
       "      <td>1613606400000</td>\n",
       "      <td>52117.67</td>\n",
       "      <td>52530.00</td>\n",
       "      <td>50901.90</td>\n",
       "      <td>51552.60</td>\n",
       "      <td>60758.046954</td>\n",
       "    </tr>\n",
       "  </tbody>\n",
       "</table>\n",
       "</div>"
      ],
      "text/plain": [
       "                timestamp      open      high       low     close  \\\n",
       "timestamp                                                           \n",
       "2021-02-14  1613260800000  47156.78  49707.43  47014.17  48577.79   \n",
       "2021-02-15  1613347200000  48580.47  49010.92  45570.79  47911.10   \n",
       "2021-02-16  1613433600000  47911.10  50689.18  47003.62  49133.45   \n",
       "2021-02-17  1613520000000  49133.45  52618.74  48947.00  52119.71   \n",
       "2021-02-18  1613606400000  52117.67  52530.00  50901.90  51552.60   \n",
       "\n",
       "                  volume  \n",
       "timestamp                 \n",
       "2021-02-14  73735.475533  \n",
       "2021-02-15  79398.156784  \n",
       "2021-02-16  88813.266298  \n",
       "2021-02-17  85743.637818  \n",
       "2021-02-18  60758.046954  "
      ]
     },
     "execution_count": 25,
     "metadata": {},
     "output_type": "execute_result"
    }
   ],
   "source": [
    "test_df.head()"
   ]
  },
  {
   "cell_type": "code",
   "execution_count": 35,
   "metadata": {},
   "outputs": [
    {
     "name": "stdout",
     "output_type": "stream",
     "text": [
      "1613260800000.0 47156.78 49707.43 47014.17 48577.79 73735.475533\n"
     ]
    }
   ],
   "source": [
    "for idx, (timestamp, open, high, low, close, volume) in test_df.iterrows():\n",
    "    print(timestamp, open, high, low, close, volume)\n",
    "    break"
   ]
  },
  {
   "cell_type": "code",
   "execution_count": 39,
   "metadata": {},
   "outputs": [],
   "source": [
    "# save train data\n",
    "db = sqlite3.connect(\"binance_futures_1d_train.db\")\n",
    "table_name = '_BTCUSDT'\n",
    "db.execute(f\"\"\"\n",
    "        CREATE TABLE IF NOT EXISTS {table_name} (\n",
    "            timestamp int, \n",
    "            open float, \n",
    "            high float, \n",
    "            low float, \n",
    "            close float, \n",
    "            volume float\n",
    "        )\"\"\")\n",
    " # save to db\n",
    "for idx, (timestamp, open, high, low, close, volume) in train_df.iterrows():\n",
    "    db.execute(f\"\"\"\n",
    "    INSERT INTO {table_name} VALUES (\n",
    "        {timestamp}, {open}, {high}, {low}, {close}, {volume}\n",
    "    )\"\"\")\n",
    "\n",
    "db.commit()"
   ]
  },
  {
   "cell_type": "code",
   "execution_count": 38,
   "metadata": {},
   "outputs": [],
   "source": [
    "# save test_data\n",
    "db = sqlite3.connect(\"binance_futures_1d_test.db\")\n",
    "table_name = '_BTCUSDT'\n",
    "db.execute(f\"\"\"\n",
    "        CREATE TABLE IF NOT EXISTS {table_name} (\n",
    "            timestamp int, \n",
    "            open float, \n",
    "            high float, \n",
    "            low float, \n",
    "            close float, \n",
    "            volume float\n",
    "        )\"\"\")\n",
    " # save to db\n",
    "for idx, (timestamp, open, high, low, close, volume) in test_df.iterrows():\n",
    "    db.execute(f\"\"\"\n",
    "    INSERT INTO {table_name} VALUES (\n",
    "        {timestamp}, {open}, {high}, {low}, {close}, {volume}\n",
    "    )\"\"\")\n",
    "\n",
    "db.commit()"
   ]
  }
 ],
 "metadata": {
  "interpreter": {
   "hash": "af4eb12c588841e2f9ac88d198aa445b24285f94e90349f7b5aa423b9e25f6f2"
  },
  "kernelspec": {
   "display_name": "Python 3.8.12 64-bit ('pytorch': conda)",
   "language": "python",
   "name": "python3"
  },
  "language_info": {
   "codemirror_mode": {
    "name": "ipython",
    "version": 3
   },
   "file_extension": ".py",
   "mimetype": "text/x-python",
   "name": "python",
   "nbconvert_exporter": "python",
   "pygments_lexer": "ipython3",
   "version": "3.7.12"
  },
  "orig_nbformat": 4
 },
 "nbformat": 4,
 "nbformat_minor": 2
}
